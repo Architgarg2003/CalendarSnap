{
  "cells": [
    {
      "cell_type": "code",
      "execution_count": 5,
      "metadata": {
        "colab": {
          "base_uri": "https://localhost:8080/"
        },
        "id": "oYTzFT1lW1-R",
        "outputId": "46b37232-a779-4f4b-b324-94afa0c11833"
      },
      "outputs": [
        {
          "name": "stdout",
          "output_type": "stream",
          "text": [
            "Drive already mounted at /content/drive; to attempt to forcibly remount, call drive.mount(\"/content/drive\", force_remount=True).\n"
          ]
        }
      ],
      "source": [
        "from google.colab import drive\n",
        "drive.mount('/content/drive')"
      ]
    },
    {
      "cell_type": "markdown",
      "metadata": {
        "id": "VRWQQNf1Zr9o"
      },
      "source": [
        "## Installing required libraries"
      ]
    },
    {
      "cell_type": "code",
      "execution_count": 1,
      "metadata": {
        "colab": {
          "base_uri": "https://localhost:8080/"
        },
        "id": "tuNwaR2uVy7N",
        "outputId": "69f0143b-cb77-4eda-e30c-0651ed422129"
      },
      "outputs": [
        {
          "name": "stdout",
          "output_type": "stream",
          "text": [
            "Requirement already satisfied: pytesseract in /Users/architgarg/opt/anaconda3/lib/python3.8/site-packages (0.3.10)\n",
            "Requirement already satisfied: Pillow>=8.0.0 in /Users/architgarg/opt/anaconda3/lib/python3.8/site-packages (from pytesseract) (8.0.1)\n",
            "Requirement already satisfied: packaging>=21.3 in /Users/architgarg/opt/anaconda3/lib/python3.8/site-packages (from pytesseract) (23.0)\n",
            "Password:\n",
            "\n",
            "Password:"
          ]
        }
      ],
      "source": [
        "!pip install pytesseract\n",
        "!sudo apt install tesseract-ocr\n",
        "!sudo apt-get install tesseract-ocr-ind\n",
        "!pip install datetime\n",
        "!pip install pytz\n",
        "!pip install pathlib\n",
        "!pip install icalendar"
      ]
    },
    {
      "cell_type": "code",
      "execution_count": 3,
      "metadata": {
        "id": "q8yczm7WsQgt"
      },
      "outputs": [],
      "source": [
        "  def display(img,cmap='gray'):\n",
        "    fig = plt.figure(figsize=(12,10))\n",
        "    ax = fig.add_subplot(111)\n",
        "    ax.imshow(img,cmap='gray')"
      ]
    },
    {
      "cell_type": "markdown",
      "metadata": {
        "id": "8WgKJ0BJZxMu"
      },
      "source": [
        "## Importing the libraries:"
      ]
    },
    {
      "cell_type": "code",
      "execution_count": 7,
      "metadata": {
        "id": "4VpJiAJxXR2V"
      },
      "outputs": [],
      "source": [
        "import cv2\n",
        "import numpy as np\n",
        "import pytesseract\n",
        "import matplotlib.pyplot as plt\n",
        "import pandas as pd\n",
        "from PIL import Image\n",
        "import datetime\n",
        "import os.path\n",
        "import datetime\n",
        "from datetime import datetime , timedelta ,date\n",
        "from icalendar import Calendar, Event, vCalAddress, vText\n",
        "import pytz\n",
        "from datetime import datetime\n",
        "import os\n",
        "from pathlib import Path"
      ]
    },
    {
      "cell_type": "markdown",
      "metadata": {
        "id": "CUqZPiYYZ1mf"
      },
      "source": [
        "## Reading the Image:"
      ]
    },
    {
      "cell_type": "code",
      "execution_count": 8,
      "metadata": {
        "colab": {
          "base_uri": "https://localhost:8080/",
          "height": 146
        },
        "id": "p23vC9t4qkyQ",
        "outputId": "17cbf75b-39ef-4173-ca94-7653a890fb3d"
      },
      "outputs": [
        {
          "data": {
            "text/plain": [
              "<matplotlib.image.AxesImage at 0x7f53735527f0>"
            ]
          },
          "execution_count": 8,
          "metadata": {},
          "output_type": "execute_result"
        },
        {
          "data": {
            "image/png": "[encoded data removed]",
            "text/plain": [
              "<Figure size 432x288 with 1 Axes>"
            ]
          },
          "metadata": {
            "needs_background": "light"
          },
          "output_type": "display_data"
        }
      ],
      "source": [
        "img = cv2.imread(\"/content/drive/MyDrive/PROJECT/TT2.png\")\n",
        "plt.imshow(img)"
      ]
    },
    {
      "cell_type": "markdown",
      "metadata": {
        "id": "Mr-odPlPaAhN"
      },
      "source": [
        "## Converting Image to grey scale for better text detection"
      ]
    },
    {
      "cell_type": "code",
      "execution_count": 9,
      "metadata": {
        "colab": {
          "base_uri": "https://localhost:8080/",
          "height": 146
        },
        "id": "gFCmzNrlSMUz",
        "outputId": "5f47c2cd-9ff7-4ed5-cc9a-a684b0bbabfe"
      },
      "outputs": [
        {
          "data": {
            "text/plain": [
              "<matplotlib.image.AxesImage at 0x7f53732ab220>"
            ]
          },
          "execution_count": 9,
          "metadata": {},
          "output_type": "execute_result"
        },
        {
          "data": {
            "image/png": "[encoded data removed]",
            "text/plain": [
              "<Figure size 432x288 with 1 Axes>"
            ]
          },
          "metadata": {
            "needs_background": "light"
          },
          "output_type": "display_data"
        }
      ],
      "source": [
        "gray = cv2.cvtColor(img, cv2.COLOR_BGR2GRAY)\n",
        "plt.imshow(gray,cmap='gray')"
      ]
    },
    {
      "cell_type": "markdown",
      "metadata": {
        "id": "ewXzUxQtZ5Nf"
      },
      "source": [
        "## Finding the Image's threshold to better scan text and extrating data from the Image :"
      ]
    },
    {
      "cell_type": "code",
      "execution_count": 10,
      "metadata": {
        "colab": {
          "base_uri": "https://localhost:8080/"
        },
        "id": "M6gs8HAqGm62",
        "outputId": "72925a35-b72f-4f88-bf64-deca0e1ad79c"
      },
      "outputs": [
        {
          "name": "stdout",
          "output_type": "stream",
          "text": [
            "level\tpage_num\tblock_num\tpar_num\tline_num\tword_num\tleft\ttop\twidth\theight\tconf\ttext\n",
            "1\t1\t0\t0\t0\t0\t0\t0\t2418\t558\t-1\t\n",
            "2\t1\t1\t0\t0\t0\t90\t57\t78\t23\t-1\t\n",
            "3\t1\t1\t1\t0\t0\t90\t57\t78\t23\t-1\t\n",
            "4\t1\t1\t1\t1\t0\t90\t57\t78\t23\t-1\t\n",
            "5\t1\t1\t1\t1\t1\t90\t57\t78\t23\t96\tTheory\n",
            "2\t1\t2\t0\t0\t0\t102\t147\t54\t17\t-1\t\n",
            "3\t1\t2\t1\t0\t0\t102\t147\t54\t17\t-1\t\n",
            "4\t1\t2\t1\t1\t0\t102\t147\t54\t17\t-1\t\n",
            "5\t1\t2\t1\t1\t1\t102\t147\t54\t17\t92\tMON\n",
            "2\t1\t3\t0\t0\t0\t107\t229\t43\t17\t-1\t\n",
            "3\t1\t3\t1\t0\t0\t107\t229\t43\t17\t-1\t\n",
            "4\t1\t3\t1\t1\t0\t107\t229\t43\t17\t-1\t\n",
            "5\t1\t3\t1\t1\t1\t107\t229\t43\t17\t89\tTUE\n",
            "2\t1\t4\t0\t0\t0\t103\t311\t51\t17\t-1\t\n",
            "3\t1\t4\t1\t0\t0\t103\t311\t51\t17\t-1\t\n",
            "4\t1\t4\t1\t1\t0\t103\t311\t51\t17\t-1\t\n",
            "5\t1\t4\t1\t1\t1\t103\t311\t51\t17\t92\tWED\n",
            "2\t1\t5\t0\t0\t0\t105\t393\t46\t17\t-1\t\n",
            "3\t1\t5\t1\t0\t0\t105\t393\t46\t17\t-1\t\n",
            "4\t1\t5\t1\t1\t0\t105\t393\t46\t17\t-1\t\n",
            "5\t1\t5\t1\t1\t1\t105\t393\t46\t17\t90\tTHU\n",
            "2\t1\t6\t0\t0\t0\t114\t475\t30\t17\t-1\t\n",
            "3\t1\t6\t1\t0\t0\t114\t475\t30\t17\t-1\t\n",
            "4\t1\t6\t1\t1\t0\t114\t475\t30\t17\t-1\t\n",
            "5\t1\t6\t1\t1\t1\t114\t475\t30\t17\t90\tFRI\n",
            "2\t1\t7\t0\t0\t0\t334\t34\t52\t65\t-1\t\n",
            "3\t1\t7\t1\t0\t0\t334\t34\t52\t65\t-1\t\n",
            "4\t1\t7\t1\t1\t0\t334\t34\t52\t17\t-1\t\n",
            "5\t1\t7\t1\t1\t1\t334\t34\t52\t17\t96\tStart\n",
            "4\t1\t7\t1\t2\t0\t341\t81\t38\t18\t-1\t\n",
            "5\t1\t7\t1\t2\t1\t341\t81\t38\t18\t96\tEnd\n",
            "2\t1\t8\t0\t0\t0\t321\t146\t77\t23\t-1\t\n",
            "3\t1\t8\t1\t0\t0\t321\t146\t77\t23\t-1\t\n",
            "4\t1\t8\t1\t1\t0\t321\t146\t77\t23\t-1\t\n",
            "5\t1\t8\t1\t1\t1\t321\t146\t77\t23\t96\tTheory\n",
            "2\t1\t9\t0\t0\t0\t321\t228\t77\t23\t-1\t\n",
            "3\t1\t9\t1\t0\t0\t321\t228\t77\t23\t-1\t\n",
            "4\t1\t9\t1\t1\t0\t321\t228\t77\t23\t-1\t\n",
            "5\t1\t9\t1\t1\t1\t321\t228\t77\t23\t96\tTheory\n",
            "2\t1\t10\t0\t0\t0\t321\t310\t77\t23\t-1\t\n",
            "3\t1\t10\t1\t0\t0\t321\t310\t77\t23\t-1\t\n",
            "4\t1\t10\t1\t1\t0\t321\t310\t77\t23\t-1\t\n",
            "5\t1\t10\t1\t1\t1\t321\t310\t77\t23\t96\tTheory\n",
            "2\t1\t11\t0\t0\t0\t321\t392\t77\t23\t-1\t\n",
            "3\t1\t11\t1\t0\t0\t321\t392\t77\t23\t-1\t\n",
            "4\t1\t11\t1\t1\t0\t321\t392\t77\t23\t-1\t\n",
            "5\t1\t11\t1\t1\t1\t321\t392\t77\t23\t96\tTheory\n",
            "2\t1\t12\t0\t0\t0\t321\t474\t77\t23\t-1\t\n",
            "3\t1\t12\t1\t0\t0\t321\t474\t77\t23\t-1\t\n",
            "4\t1\t12\t1\t1\t0\t321\t474\t77\t23\t-1\t\n",
            "5\t1\t12\t1\t1\t1\t321\t474\t77\t23\t96\tTheory\n",
            "2\t1\t13\t0\t0\t0\t588\t34\t58\t65\t-1\t\n",
            "3\t1\t13\t1\t0\t0\t588\t34\t58\t65\t-1\t\n",
            "4\t1\t13\t1\t1\t0\t588\t34\t58\t17\t-1\t\n",
            "5\t1\t13\t1\t1\t1\t588\t34\t58\t17\t96\t08:30\n",
            "4\t1\t13\t1\t2\t0\t589\t82\t57\t17\t-1\t\n",
            "5\t1\t13\t1\t2\t1\t589\t82\t57\t17\t96\t10:00\n",
            "2\t1\t14\t0\t0\t0\t596\t147\t37\t17\t-1\t\n",
            "3\t1\t14\t1\t0\t0\t596\t147\t37\t17\t-1\t\n",
            "4\t1\t14\t1\t1\t0\t596\t147\t37\t17\t-1\t\n",
            "5\t1\t14\t1\t1\t1\t596\t147\t37\t17\t69\tA1\n",
            "2\t1\t15\t0\t0\t0\t515\t212\t206\t51\t-1\t\n",
            "3\t1\t15\t1\t0\t0\t515\t212\t206\t51\t-1\t\n",
            "4\t1\t15\t1\t1\t0\t515\t212\t206\t17\t-1\t\n",
            "5\t1\t15\t1\t1\t1\t515\t212\t206\t17\t88\tD11-CHY1001-LTP-\n",
            "4\t1\t15\t1\t2\t0\t585\t246\t65\t17\t-1\t\n",
            "5\t1\t15\t1\t2\t1\t585\t246\t65\t17\t85\tLC036\n",
            "2\t1\t16\t0\t0\t0\t596\t311\t41\t17\t-1\t\n",
            "3\t1\t16\t1\t0\t0\t596\t311\t41\t17\t-1\t\n",
            "4\t1\t16\t1\t1\t0\t596\t311\t41\t17\t-1\t\n",
            "5\t1\t16\t1\t1\t1\t596\t311\t41\t17\t94\tA12\n",
            "2\t1\t17\t0\t0\t0\t515\t376\t206\t51\t-1\t\n",
            "3\t1\t17\t1\t0\t0\t515\t376\t206\t51\t-1\t\n",
            "4\t1\t17\t1\t1\t0\t515\t376\t206\t17\t-1\t\n",
            "5\t1\t17\t1\t1\t1\t515\t376\t206\t17\t90\tD12-CHY1001-LTP-\n",
            "4\t1\t17\t1\t2\t0\t585\t410\t65\t17\t-1\t\n",
            "5\t1\t17\t1\t2\t1\t585\t410\t65\t17\t85\tLC036\n",
            "2\t1\t18\t0\t0\t0\t596\t475\t41\t17\t-1\t\n",
            "3\t1\t18\t1\t0\t0\t596\t475\t41\t17\t-1\t\n",
            "4\t1\t18\t1\t1\t0\t596\t475\t41\t17\t-1\t\n",
            "5\t1\t18\t1\t1\t1\t596\t475\t41\t17\t95\tA13\n",
            "2\t1\t19\t0\t0\t0\t868\t34\t57\t65\t-1\t\n",
            "3\t1\t19\t1\t0\t0\t868\t34\t57\t65\t-1\t\n",
            "4\t1\t19\t1\t1\t0\t868\t34\t57\t17\t-1\t\n",
            "5\t1\t19\t1\t1\t1\t868\t34\t57\t17\t96\t10:05\n",
            "4\t1\t19\t1\t2\t0\t868\t82\t57\t17\t-1\t\n",
            "5\t1\t19\t1\t2\t1\t868\t82\t57\t17\t96\t11:35\n",
            "2\t1\t20\t0\t0\t0\t797\t130\t199\t17\t-1\t\n",
            "3\t1\t20\t1\t0\t0\t797\t130\t199\t17\t-1\t\n",
            "4\t1\t20\t1\t1\t0\t797\t130\t199\t17\t-1\t\n",
            "5\t1\t20\t1\t1\t1\t797\t130\t199\t17\t91\tB11-CSE2001-LTP-\n",
            "2\t1\t21\t0\t0\t0\t864\t164\t65\t17\t-1\t\n",
            "3\t1\t21\t1\t0\t0\t864\t164\t65\t17\t-1\t\n",
            "4\t1\t21\t1\t1\t0\t864\t164\t65\t17\t-1\t\n",
            "5\t1\t21\t1\t1\t1\t864\t164\t65\t17\t87\tLC002\n",
            "2\t1\t22\t0\t0\t0\t799\t212\t195\t17\t-1\t\n",
            "3\t1\t22\t1\t0\t0\t799\t212\t195\t17\t-1\t\n",
            "4\t1\t22\t1\t1\t0\t799\t212\t195\t17\t-1\t\n",
            "5\t1\t22\t1\t1\t1\t799\t212\t195\t17\t82\tE11-EEE1001-LTP-\n",
            "2\t1\t23\t0\t0\t0\t860\t246\t70\t17\t-1\t\n",
            "3\t1\t23\t1\t0\t0\t860\t246\t70\t17\t-1\t\n",
            "4\t1\t23\t1\t1\t0\t860\t246\t70\t17\t-1\t\n",
            "5\t1\t23\t1\t1\t1\t860\t246\t70\t17\t91\tAB506\n",
            "2\t1\t24\t0\t0\t0\t797\t294\t199\t17\t-1\t\n",
            "3\t1\t24\t1\t0\t0\t797\t294\t199\t17\t-1\t\n",
            "4\t1\t24\t1\t1\t0\t797\t294\t199\t17\t-1\t\n",
            "5\t1\t24\t1\t1\t1\t797\t294\t199\t17\t91\tB12-CSE2001-LTP-\n",
            "2\t1\t25\t0\t0\t0\t864\t328\t65\t17\t-1\t\n",
            "3\t1\t25\t1\t0\t0\t864\t328\t65\t17\t-1\t\n",
            "4\t1\t25\t1\t1\t0\t864\t328\t65\t17\t-1\t\n",
            "5\t1\t25\t1\t1\t1\t864\t328\t65\t17\t87\tLC002\n",
            "2\t1\t26\t0\t0\t0\t799\t376\t195\t17\t-1\t\n",
            "3\t1\t26\t1\t0\t0\t799\t376\t195\t17\t-1\t\n",
            "4\t1\t26\t1\t1\t0\t799\t376\t195\t17\t-1\t\n",
            "5\t1\t26\t1\t1\t1\t799\t376\t195\t17\t88\tE12-EEE1001-LTP-\n",
            "2\t1\t27\t0\t0\t0\t860\t410\t70\t17\t-1\t\n",
            "3\t1\t27\t1\t0\t0\t860\t410\t70\t17\t-1\t\n",
            "4\t1\t27\t1\t1\t0\t860\t410\t70\t17\t-1\t\n",
            "5\t1\t27\t1\t1\t1\t860\t410\t70\t17\t91\tAB506\n",
            "2\t1\t28\t0\t0\t0\t797\t458\t199\t17\t-1\t\n",
            "3\t1\t28\t1\t0\t0\t797\t458\t199\t17\t-1\t\n",
            "4\t1\t28\t1\t1\t0\t797\t458\t199\t17\t-1\t\n",
            "5\t1\t28\t1\t1\t1\t797\t458\t199\t17\t91\tB13-CSE2001-LTP-\n",
            "2\t1\t29\t0\t0\t0\t864\t492\t65\t17\t-1\t\n",
            "3\t1\t29\t1\t0\t0\t864\t492\t65\t17\t-1\t\n",
            "4\t1\t29\t1\t1\t0\t864\t492\t65\t17\t-1\t\n",
            "5\t1\t29\t1\t1\t1\t864\t492\t65\t17\t87\tLC002\n",
            "2\t1\t30\t0\t0\t0\t1149\t34\t58\t65\t-1\t\n",
            "3\t1\t30\t1\t0\t0\t1149\t34\t58\t65\t-1\t\n",
            "4\t1\t30\t1\t1\t0\t1149\t34\t58\t17\t-1\t\n",
            "5\t1\t30\t1\t1\t1\t1149\t34\t58\t17\t96\t11:40\n",
            "4\t1\t30\t1\t2\t0\t1149\t82\t58\t17\t-1\t\n",
            "5\t1\t30\t1\t2\t1\t1149\t82\t58\t17\t94\t13:10\n",
            "2\t1\t31\t0\t0\t0\t1158\t147\t36\t17\t-1\t\n",
            "3\t1\t31\t1\t0\t0\t1158\t147\t36\t17\t-1\t\n",
            "4\t1\t31\t1\t1\t0\t1158\t147\t36\t17\t-1\t\n",
            "5\t1\t31\t1\t1\t1\t1158\t147\t36\t17\t36\tC1\n",
            "2\t1\t32\t0\t0\t0\t1161\t229\t31\t17\t-1\t\n",
            "3\t1\t32\t1\t0\t0\t1161\t229\t31\t17\t-1\t\n",
            "4\t1\t32\t1\t1\t0\t1161\t229\t31\t17\t-1\t\n",
            "5\t1\t32\t1\t1\t1\t1161\t229\t31\t17\t81\tF11\n",
            "2\t1\t33\t0\t0\t0\t1158\t311\t40\t17\t-1\t\n",
            "3\t1\t33\t1\t0\t0\t1158\t311\t40\t17\t-1\t\n",
            "4\t1\t33\t1\t1\t0\t1158\t311\t40\t17\t-1\t\n",
            "5\t1\t33\t1\t1\t1\t1158\t311\t40\t17\t51\t12\n",
            "2\t1\t34\t0\t0\t0\t1161\t393\t35\t17\t-1\t\n",
            "3\t1\t34\t1\t0\t0\t1161\t393\t35\t17\t-1\t\n",
            "4\t1\t34\t1\t1\t0\t1161\t393\t35\t17\t-1\t\n",
            "5\t1\t34\t1\t1\t1\t1161\t393\t35\t17\t83\tF12\n",
            "2\t1\t35\t0\t0\t0\t1055\t458\t247\t51\t-1\t\n",
            "3\t1\t35\t1\t0\t0\t1055\t458\t247\t51\t-1\t\n",
            "4\t1\t35\t1\t1\t0\t1055\t458\t247\t17\t-1\t\n",
            "5\t1\t35\t1\t1\t1\t1055\t458\t21\t17\t78\tC1\n",
            "5\t1\t35\t1\t1\t2\t1083\t458\t219\t17\t84\t3-ENG2005-LT-LC-S-\n",
            "4\t1\t35\t1\t2\t0\t1158\t492\t39\t17\t-1\t\n",
            "5\t1\t35\t1\t2\t1\t1158\t492\t39\t17\t96\t202\n",
            "2\t1\t36\t0\t0\t0\t1410\t34\t57\t65\t-1\t\n",
            "3\t1\t36\t1\t0\t0\t1410\t34\t57\t65\t-1\t\n",
            "4\t1\t36\t1\t1\t0\t1410\t34\t57\t17\t-1\t\n",
            "5\t1\t36\t1\t1\t1\t1410\t34\t57\t17\t85\t1315\n",
            "4\t1\t36\t1\t2\t0\t1410\t82\t57\t17\t-1\t\n",
            "5\t1\t36\t1\t2\t1\t1410\t82\t57\t17\t92\t14:45\n",
            "2\t1\t37\t0\t0\t0\t1417\t147\t37\t17\t-1\t\n",
            "3\t1\t37\t1\t0\t0\t1417\t147\t37\t17\t-1\t\n",
            "4\t1\t37\t1\t1\t0\t1417\t147\t37\t17\t-1\t\n",
            "5\t1\t37\t1\t1\t1\t1417\t147\t37\t17\t93\tA21\n",
            "2\t1\t38\t0\t0\t0\t1419\t229\t36\t17\t-1\t\n",
            "3\t1\t38\t1\t0\t0\t1419\t229\t36\t17\t-1\t\n",
            "4\t1\t38\t1\t1\t0\t1419\t229\t36\t17\t-1\t\n",
            "5\t1\t38\t1\t1\t1\t1419\t229\t36\t17\t90\tD21\n",
            "2\t1\t39\t0\t0\t0\t1417\t311\t41\t17\t-1\t\n",
            "3\t1\t39\t1\t0\t0\t1417\t311\t41\t17\t-1\t\n",
            "4\t1\t39\t1\t1\t0\t1417\t311\t41\t17\t-1\t\n",
            "5\t1\t39\t1\t1\t1\t1417\t311\t41\t17\t94\tA22\n",
            "2\t1\t40\t0\t0\t0\t1419\t393\t40\t17\t-1\t\n",
            "3\t1\t40\t1\t0\t0\t1419\t393\t40\t17\t-1\t\n",
            "4\t1\t40\t1\t1\t0\t1419\t393\t40\t17\t-1\t\n",
            "5\t1\t40\t1\t1\t1\t1419\t393\t40\t17\t91\tD22\n",
            "2\t1\t41\t0\t0\t0\t1417\t475\t41\t17\t-1\t\n",
            "3\t1\t41\t1\t0\t0\t1417\t475\t41\t17\t-1\t\n",
            "4\t1\t41\t1\t1\t0\t1417\t475\t41\t17\t-1\t\n",
            "5\t1\t41\t1\t1\t1\t1417\t475\t41\t17\t95\tA23\n",
            "2\t1\t42\t0\t0\t0\t1667\t34\t58\t65\t-1\t\n",
            "3\t1\t42\t1\t0\t0\t1667\t34\t58\t65\t-1\t\n",
            "4\t1\t42\t1\t1\t0\t1667\t34\t58\t17\t-1\t\n",
            "5\t1\t42\t1\t1\t1\t1667\t34\t58\t17\t96\t14:50\n",
            "4\t1\t42\t1\t2\t0\t1667\t82\t58\t17\t-1\t\n",
            "5\t1\t42\t1\t2\t1\t1667\t82\t58\t17\t96\t16:20\n",
            "2\t1\t43\t0\t0\t0\t1599\t130\t195\t17\t-1\t\n",
            "3\t1\t43\t1\t0\t0\t1599\t130\t195\t17\t-1\t\n",
            "4\t1\t43\t1\t1\t0\t1599\t130\t195\t17\t-1\t\n",
            "5\t1\t43\t1\t1\t1\t1599\t130\t195\t17\t80\tE13-EEE1001-LTP-\n",
            "2\t1\t44\t0\t0\t0\t1660\t164\t70\t17\t-1\t\n",
            "3\t1\t44\t1\t0\t0\t1660\t164\t70\t17\t-1\t\n",
            "4\t1\t44\t1\t1\t0\t1660\t164\t70\t17\t-1\t\n",
            "5\t1\t44\t1\t1\t1\t1660\t164\t70\t17\t90\tAB506\n",
            "2\t1\t45\t0\t0\t0\t1676\t229\t40\t17\t-1\t\n",
            "3\t1\t45\t1\t0\t0\t1676\t229\t40\t17\t-1\t\n",
            "4\t1\t45\t1\t1\t0\t1676\t229\t40\t17\t-1\t\n",
            "5\t1\t45\t1\t1\t1\t1676\t229\t40\t17\t34\t(23\n",
            "2\t1\t46\t0\t0\t0\t1679\t311\t35\t17\t-1\t\n",
            "3\t1\t46\t1\t0\t0\t1679\t311\t35\t17\t-1\t\n",
            "4\t1\t46\t1\t1\t0\t1679\t311\t35\t17\t-1\t\n",
            "5\t1\t46\t1\t1\t1\t1679\t311\t35\t17\t91\tF13\n",
            "2\t1\t47\t0\t0\t0\t1677\t393\t39\t17\t-1\t\n",
            "3\t1\t47\t1\t0\t0\t1677\t393\t39\t17\t-1\t\n",
            "4\t1\t47\t1\t1\t0\t1677\t393\t39\t17\t-1\t\n",
            "5\t1\t47\t1\t1\t1\t1677\t393\t39\t17\t92\tB23\n",
            "2\t1\t48\t0\t0\t0\t1594\t458\t205\t17\t-1\t\n",
            "3\t1\t48\t1\t0\t0\t1594\t458\t205\t17\t-1\t\n",
            "4\t1\t48\t1\t1\t0\t1594\t458\t205\t17\t-1\t\n",
            "5\t1\t48\t1\t1\t1\t1594\t458\t205\t17\t90\tD13-CHY1001-LTP-\n",
            "2\t1\t49\t0\t0\t0\t1664\t492\t65\t17\t-1\t\n",
            "3\t1\t49\t1\t0\t0\t1664\t492\t65\t17\t-1\t\n",
            "4\t1\t49\t1\t1\t0\t1664\t492\t65\t17\t-1\t\n",
            "5\t1\t49\t1\t1\t1\t1664\t492\t65\t17\t78\tLC036\n",
            "2\t1\t50\t0\t0\t0\t1946\t34\t58\t65\t-1\t\n",
            "3\t1\t50\t1\t0\t0\t1946\t34\t58\t65\t-1\t\n",
            "4\t1\t50\t1\t1\t0\t1946\t34\t58\t17\t-1\t\n",
            "5\t1\t50\t1\t1\t1\t1946\t34\t58\t17\t96\t16:25\n",
            "4\t1\t50\t1\t2\t0\t1946\t82\t58\t17\t-1\t\n",
            "5\t1\t50\t1\t2\t1\t1946\t82\t58\t17\t95\t17:55\n",
            "2\t1\t51\t0\t0\t0\t1956\t147\t35\t17\t-1\t\n",
            "3\t1\t51\t1\t0\t0\t1956\t147\t35\t17\t-1\t\n",
            "4\t1\t51\t1\t1\t0\t1956\t147\t35\t17\t-1\t\n",
            "5\t1\t51\t1\t1\t1\t1956\t147\t35\t17\t92\tB21\n",
            "2\t1\t52\t0\t0\t0\t1877\t212\t197\t51\t-1\t\n",
            "3\t1\t52\t1\t0\t0\t1877\t212\t197\t51\t-1\t\n",
            "4\t1\t52\t1\t1\t0\t1877\t212\t197\t17\t-1\t\n",
            "5\t1\t52\t1\t1\t1\t1877\t212\t197\t17\t89\tE21-CSE2002-LTP-\n",
            "4\t1\t52\t1\t2\t0\t1943\t246\t64\t17\t-1\t\n",
            "5\t1\t52\t1\t2\t1\t1943\t246\t64\t17\t84\tLC009\n",
            "2\t1\t53\t0\t0\t0\t1956\t311\t39\t17\t-1\t\n",
            "3\t1\t53\t1\t0\t0\t1956\t311\t39\t17\t-1\t\n",
            "4\t1\t53\t1\t1\t0\t1956\t311\t39\t17\t-1\t\n",
            "5\t1\t53\t1\t1\t1\t1956\t311\t39\t17\t92\tB22\n",
            "2\t1\t54\t0\t0\t0\t1877\t376\t197\t51\t-1\t\n",
            "3\t1\t54\t1\t0\t0\t1877\t376\t197\t51\t-1\t\n",
            "4\t1\t54\t1\t1\t0\t1877\t376\t197\t17\t-1\t\n",
            "5\t1\t54\t1\t1\t1\t1877\t376\t197\t17\t88\tE22-CSE2002-LTP-\n",
            "4\t1\t54\t1\t2\t0\t1943\t410\t64\t17\t-1\t\n",
            "5\t1\t54\t1\t2\t1\t1943\t410\t64\t17\t84\tLC009\n",
            "2\t1\t55\t0\t0\t0\t1877\t458\t197\t51\t-1\t\n",
            "3\t1\t55\t1\t0\t0\t1877\t458\t197\t51\t-1\t\n",
            "4\t1\t55\t1\t1\t0\t1877\t458\t197\t17\t-1\t\n",
            "5\t1\t55\t1\t1\t1\t1877\t458\t197\t17\t89\tE23-CSE2002-LTP-\n",
            "4\t1\t55\t1\t2\t0\t1943\t492\t64\t17\t-1\t\n",
            "5\t1\t55\t1\t2\t1\t1943\t492\t64\t17\t84\tLC009\n",
            "2\t1\t56\t0\t0\t0\t2228\t34\t58\t65\t-1\t\n",
            "3\t1\t56\t1\t0\t0\t2228\t34\t58\t65\t-1\t\n",
            "4\t1\t56\t1\t1\t0\t2228\t34\t58\t17\t-1\t\n",
            "5\t1\t56\t1\t1\t1\t2228\t34\t58\t17\t96\t18:00\n",
            "4\t1\t56\t1\t2\t0\t2228\t82\t58\t17\t-1\t\n",
            "5\t1\t56\t1\t2\t1\t2228\t82\t58\t17\t96\t19:30\n",
            "2\t1\t57\t0\t0\t0\t2237\t147\t35\t17\t-1\t\n",
            "3\t1\t57\t1\t0\t0\t2237\t147\t35\t17\t-1\t\n",
            "4\t1\t57\t1\t1\t0\t2237\t147\t35\t17\t-1\t\n",
            "5\t1\t57\t1\t1\t1\t2237\t147\t35\t17\t68\tC21\n",
            "2\t1\t58\t0\t0\t0\t2129\t229\t255\t17\t-1\t\n",
            "3\t1\t58\t1\t0\t0\t2129\t229\t255\t17\t-1\t\n",
            "4\t1\t58\t1\t1\t0\t2129\t229\t255\t17\t-1\t\n",
            "5\t1\t58\t1\t1\t1\t2129\t229\t255\t17\t89\tF21-MAT3002-LT-LC028\n",
            "2\t1\t59\t0\t0\t0\t2237\t311\t39\t17\t-1\t\n",
            "3\t1\t59\t1\t0\t0\t2237\t311\t39\t17\t-1\t\n",
            "4\t1\t59\t1\t1\t0\t2237\t311\t39\t17\t-1\t\n",
            "5\t1\t59\t1\t1\t1\t2237\t311\t39\t17\t43\tC22\n",
            "2\t1\t60\t0\t0\t0\t2129\t393\t255\t17\t-1\t\n",
            "3\t1\t60\t1\t0\t0\t2129\t393\t255\t17\t-1\t\n",
            "4\t1\t60\t1\t1\t0\t2129\t393\t255\t17\t-1\t\n",
            "5\t1\t60\t1\t1\t1\t2129\t393\t255\t17\t90\tF22-MAT3002-LT-LC028\n",
            "2\t1\t61\t0\t0\t0\t2237\t475\t40\t17\t-1\t\n",
            "3\t1\t61\t1\t0\t0\t2237\t475\t40\t17\t-1\t\n",
            "4\t1\t61\t1\t1\t0\t2237\t475\t40\t17\t-1\t\n",
            "5\t1\t61\t1\t1\t1\t2237\t475\t40\t17\t90\tD23\n",
            "\n"
          ]
        }
      ],
      "source": [
        "th, threshed = cv2.threshold(gray, 127, 255, cv2.THRESH_TRUNC)\n",
        "data=pytesseract.image_to_data(threshed,lang=\"ind\")\n",
        "print(data)\n"
      ]
    },
    {
      "cell_type": "markdown",
      "metadata": {
        "id": "wLll8wtmaRiT"
      },
      "source": [
        "## Cleaning the above extracted data and getting only text:"
      ]
    },
    {
      "cell_type": "code",
      "execution_count": 11,
      "metadata": {
        "colab": {
          "base_uri": "https://localhost:8080/"
        },
        "id": "lW8IKViIWP7W",
        "outputId": "c2da3d2a-67a9-4414-d27d-0306d47669c1"
      },
      "outputs": [
        {
          "name": "stdout",
          "output_type": "stream",
          "text": [
            "['Theory', 'MON', 'TUE', 'WED', 'THU', 'FRI', 'Start', 'End', 'Theory', 'Theory', 'Theory', 'Theory', 'Theory', '08:30', '10:00', 'A1', 'D11-CHY1001-LTP-', 'LC036', 'A12', 'D12-CHY1001-LTP-', 'LC036', 'A13', '10:05', '11:35', 'B11-CSE2001-LTP-', 'LC002', 'E11-EEE1001-LTP-', 'AB506', 'B12-CSE2001-LTP-', 'LC002', 'E12-EEE1001-LTP-', 'AB506', 'B13-CSE2001-LTP-', 'LC002', '11:40', '13:10', 'C1', 'F11', '12', 'F12', 'C1', '3-ENG2005-LT-LC-S-', '202', '1315', '14:45', 'A21', 'D21', 'A22', 'D22', 'A23', '14:50', '16:20', 'E13-EEE1001-LTP-', 'AB506', '(23', 'F13', 'B23', 'D13-CHY1001-LTP-', 'LC036', '16:25', '17:55', 'B21', 'E21-CSE2002-LTP-', 'LC009', 'B22', 'E22-CSE2002-LTP-', 'LC009', 'E23-CSE2002-LTP-', 'LC009', '18:00', '19:30', 'C21', 'F21-MAT3002-LT-LC028', 'C22', 'F22-MAT3002-LT-LC028', 'D23']\n",
            "[13, 14, 22, 23, 34, 35, 44, 50, 51, 59, 60, 69, 70]\n"
          ]
        }
      ],
      "source": [
        "c=[]\n",
        "d=[]\n",
        "for x,b in enumerate(data.splitlines()):\n",
        "  if x!=0:\n",
        "    b=b.split()\n",
        "    if(len(b)>11):\n",
        "      c.append(b[-1])\n",
        "print(c)\n",
        "for j in c :\n",
        "  if(':' in j):\n",
        "    d.append(c.index(j))\n",
        "print(d)"
      ]
    },
    {
      "cell_type": "markdown",
      "metadata": {
        "id": "cjMgpAFEaaQI"
      },
      "source": [
        "## Sorting the data in a linked list 'e' which has all the detected data column wise including time slots classes etc:"
      ]
    },
    {
      "cell_type": "code",
      "execution_count": 12,
      "metadata": {
        "colab": {
          "base_uri": "https://localhost:8080/"
        },
        "id": "Y_SwzMKedr-h",
        "outputId": "0a91ef96-8ca9-4d15-e0b3-baf9b0bbd291"
      },
      "outputs": [
        {
          "name": "stdout",
          "output_type": "stream",
          "text": [
            "['08:30', '10:00', 'A1', 'D11-CHY1001-LTP-', 'LC036', 'A12', 'D12-CHY1001-LTP-', 'LC036', 'A13']\n",
            "['10:05', '11:35', 'B11-CSE2001-LTP-', 'LC002', 'E11-EEE1001-LTP-', 'AB506', 'B12-CSE2001-LTP-', 'LC002', 'E12-EEE1001-LTP-', 'AB506', 'B13-CSE2001-LTP-', 'LC002']\n",
            "['11:40', '13:10', 'C1', 'F11', '12', 'F12', 'C1', '3-ENG2005-LT-LC-S-', '202', '1315']\n",
            "['14:45', 'A21', 'D21', 'A22', 'D22', 'A23']\n",
            "['14:50', '16:20', 'E13-EEE1001-LTP-', 'AB506', '(23', 'F13', 'B23', 'D13-CHY1001-LTP-', 'LC036']\n",
            "['16:25', '17:55', 'B21', 'E21-CSE2002-LTP-', 'LC009', 'B22', 'E22-CSE2002-LTP-', 'LC009', 'E23-CSE2002-LTP-', 'LC009']\n",
            "['18:00', '19:30', 'C21', 'F21-MAT3002-LT-LC028', 'C22', 'F22-MAT3002-LT-LC028', 'D23']\n",
            "[['08:30', '10:00', 'A1', 'D11-CHY1001-LTP-', 'LC036', 'A12', 'D12-CHY1001-LTP-', 'LC036', 'A13'], ['10:05', '11:35', 'B11-CSE2001-LTP-', 'LC002', 'E11-EEE1001-LTP-', 'AB506', 'B12-CSE2001-LTP-', 'LC002', 'E12-EEE1001-LTP-', 'AB506', 'B13-CSE2001-LTP-', 'LC002'], ['11:40', '13:10', 'C1', 'F11', '12', 'F12', 'C1', '3-ENG2005-LT-LC-S-', '202', '1315'], ['14:45', 'A21', 'D21', 'A22', 'D22', 'A23'], ['14:50', '16:20', 'E13-EEE1001-LTP-', 'AB506', '(23', 'F13', 'B23', 'D13-CHY1001-LTP-', 'LC036'], ['16:25', '17:55', 'B21', 'E21-CSE2002-LTP-', 'LC009', 'B22', 'E22-CSE2002-LTP-', 'LC009', 'E23-CSE2002-LTP-', 'LC009'], ['18:00', '19:30', 'C21', 'F21-MAT3002-LT-LC028', 'C22', 'F22-MAT3002-LT-LC028', 'D23']]\n"
          ]
        }
      ],
      "source": [
        "e=[]\n",
        "for k in range(len(d)):\n",
        "  if((d[k]+1) in d and k<len(d)-2):\n",
        "    indexxx=k+2\n",
        "    list1=c[d[k]:d[indexxx]]\n",
        "    print(list1)\n",
        "    e.append(list1)\n",
        "  elif(k==len(d)-2):\n",
        "    list1=c[d[k]:]\n",
        "    print(list1)\n",
        "    e.append(list1)\n",
        "  elif((d[k]+1) not in d and  (d[k]-1) not in d ):\n",
        "    indexxx=k+1\n",
        "    list1=c[d[k]:d[indexxx]]\n",
        "    print(list1)\n",
        "    e.append(list1)\n",
        "print(e)\n"
      ]
    },
    {
      "cell_type": "markdown",
      "metadata": {
        "id": "YrK496OUam98"
      },
      "source": [
        "## Finding dates for every day for next 4 months and then sorting the slots and pushing events in a .ics file and saving it to drive"
      ]
    },
    {
      "cell_type": "code",
      "execution_count": 13,
      "metadata": {
        "colab": {
          "base_uri": "https://localhost:8080/"
        },
        "id": "T8lbj_Bitjd3",
        "outputId": "1ade3644-66ad-47c5-efcd-68b749158e42"
      },
      "outputs": [
        {
          "name": "stdout",
          "output_type": "stream",
          "text": [
            "ics file will be generated at  /content/drive/MyDrive/Colab_Notebooks/\n"
          ]
        }
      ],
      "source": [
        "timezone='Asia/Kolkata'\n",
        "today =  date.today()\n",
        "name = today.strftime(\"%A\")\n",
        "def generate_dates(days_from_today,date):\n",
        "    dates = []\n",
        "    k=0\n",
        "    for i in range(days_from_today):\n",
        "        d = date + timedelta(k)\n",
        "        k+=7\n",
        "        dates.append(d)\n",
        "    dates = [str(d) for d in dates]\n",
        "    return dates \n",
        "dict={}\n",
        "for i in range(7):\n",
        "  d = today + timedelta(i)\n",
        "  name=d.strftime(\"%A\")\n",
        "  dict[name]=generate_dates(16,d)\n",
        "\n",
        "\n",
        "cal = Calendar()\n",
        "cal.add('prodid', '-//My Product//My Version//EN')\n",
        "cal.add('version', '2.0')\n",
        "cal.add('attendee', 'MAILTO:archit.garg2021@vitbhopal.ac.in')\n",
        "\n",
        "MON=['A11','B11','C11','A21','E13','B21','C21']\n",
        "TUE=['D11','E11','F11','D21','C23','E21','F21']\n",
        "WED=['A12','B12','C12','A22','F13','B22','C22']\n",
        "THUR=['D12','E12','F12','D22','B23','E22','F22']\n",
        "FRI=['D23','E23','D13','A23','C13','B13','A13']\n",
        "\n",
        "for i in e:\n",
        "    for j in i:\n",
        "      if('-' in j):\n",
        "          Z=i.index(j)\n",
        "          timestr=i[0]\n",
        "          roomno=i[Z+1]\n",
        "          slot=j[0:3]\n",
        "\n",
        "          if slot in MON:\n",
        "            val=dict['Monday']\n",
        "            for m in range(len(val)):\n",
        "                dT= val[m] + ' '+ timestr\n",
        "                date_format = '%Y-%m-%d %H:%M'\n",
        "                final = datetime.strptime(dT, date_format)\n",
        "                end=final + timedelta(hours=1)\n",
        "                event = Event()\n",
        "                event.add('summary',j)\n",
        "                event.add('dtstart', final)\n",
        "                event.add('dtend',end)\n",
        "                cal.add_component(event)\n",
        "                \n",
        "          elif slot in TUE:\n",
        "            val=dict['Tuesday']\n",
        "            for m in range(len(val)):\n",
        "                dT= val[m] + ' '+ timestr\n",
        "                date_format = '%Y-%m-%d %H:%M'\n",
        "                final = datetime.strptime(dT, date_format)\n",
        "                end=final + timedelta(hours=1)\n",
        "                event = Event()\n",
        "                event.add('summary',j)\n",
        "                event.add('dtstart', final)\n",
        "                event.add('dtend',end)\n",
        "                cal.add_component(event)\n",
        "\n",
        "          elif slot in WED:\n",
        "            val=dict['Wednesday']\n",
        "            for m in range(len(val)):\n",
        "                dT= val[m] + ' '+ timestr\n",
        "                date_format = '%Y-%m-%d %H:%M'\n",
        "                final = datetime.strptime(dT, date_format)\n",
        "                end=final + timedelta(hours=1)\n",
        "                event = Event()\n",
        "                event.add('summary',j)\n",
        "                event.add('dtstart', final)\n",
        "                event.add('dtend',end)\n",
        "                cal.add_component(event)\n",
        "\n",
        "\n",
        "\n",
        "          elif slot in THUR:\n",
        "            val=dict['Thursday']\n",
        "            for m in range(len(val)):\n",
        "                dT= val[m] + ' '+ timestr\n",
        "                date_format = '%Y-%m-%d %H:%M'\n",
        "                final = datetime.strptime(dT, date_format)\n",
        "                end=final + timedelta(hours=1)\n",
        "                event = Event()\n",
        "                event.add('summary',j)\n",
        "                event.add('dtstart', final)\n",
        "                event.add('dtend',end)\n",
        "                cal.add_component(event)\n",
        "          \n",
        "          elif slot in FRI:\n",
        "            val=dict['Friday']\n",
        "            for m in range(len(val)):\n",
        "                dT= val[m] + ' '+ timestr\n",
        "                date_format = '%Y-%m-%d %H:%M'\n",
        "                final = datetime.strptime(dT, date_format)\n",
        "                end=final + timedelta(hours=1)\n",
        "                event = Event()\n",
        "                event.add('summary',j)\n",
        "                event.add('dtstart', final)\n",
        "                event.add('dtend',end)\n",
        "                cal.add_component(event)\n",
        "\n",
        "directory = '/content/drive/MyDrive/Colab_Notebooks/'\n",
        "print(\"ics file will be generated at \", directory)\n",
        "f = open(os.path.join(directory, 'example.ics'), 'wb')\n",
        "f.write(cal.to_ical())\n",
        "f.close()\n"
      ]
    }
  ],
  "metadata": {
    "colab": {
      "provenance": []
    },
    "kernelspec": {
      "display_name": "Python 3",
      "name": "python3"
    },
    "language_info": {
      "codemirror_mode": {
        "name": "ipython",
        "version": 3
      },
      "file_extension": ".py",
      "mimetype": "text/x-python",
      "name": "python",
      "nbconvert_exporter": "python",
      "pygments_lexer": "ipython3",
      "version": "3.8.5"
    }
  },
  "nbformat": 4,
  "nbformat_minor": 0
}
